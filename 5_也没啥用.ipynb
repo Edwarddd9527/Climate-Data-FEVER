{
 "cells": [
  {
   "cell_type": "code",
   "execution_count": null,
   "metadata": {},
   "outputs": [],
   "source": [
    "# 导入必要的库\n",
    "import torch\n",
    "import torch.nn as nn\n",
    "from torch.utils.data import DataLoader, Dataset\n",
    "import pandas as pd\n",
    "import numpy as np\n",
    "from sklearn.model_selection import train_test_split\n",
    "from transformers import BertTokenizer, BertModel\n",
    "\n",
    "# 检查GPU可用性\n",
    "device = torch.device(\"cuda\" if torch.cuda.is_available() else \"cpu\")\n",
    "print(f'Using device: {device}')\n",
    "\n",
    "# 载入数据\n",
    "train_df = pd.read_csv('data/train_top/training_data_top_50_evidences.csv')\n",
    "dev_df = pd.read_csv('data/dev_top//dev_data_top_50_evidences.csv')\n"
   ]
  },
  {
   "cell_type": "code",
   "execution_count": null,
   "metadata": {},
   "outputs": [],
   "source": [
    "import pandas as pd\n",
    "import re\n",
    "from nltk.corpus import stopwords\n",
    "from nltk.tokenize import word_tokenize\n",
    "\n",
    "# 设置nltk的停用词\n",
    "stop_words = set(stopwords.words('english'))\n",
    "\n",
    "def preprocess_text(text):\n",
    "    text = text.lower()  # 小写化\n",
    "    text = re.sub(r'[^a-z0-9\\s]', '', text)  # 保留字母和数字\n",
    "    tokens = word_tokenize(text)\n",
    "    filtered_tokens = [token for token in tokens if token not in stop_words]  # 去除停用词\n",
    "    return \" \".join(filtered_tokens)\n",
    "\n",
    "# 应用预处理到训练和验证数据集\n",
    "train_df['filtered_text'] = train_df['claim_text'] + \" \" + train_df['evidence_text']\n",
    "train_df['filtered_text'] = train_df['filtered_text'].apply(preprocess_text)\n",
    "dev_df['filtered_text'] = dev_df['claim_text'] + \" \" + dev_df['evidence_text']\n",
    "dev_df['filtered_text'] = dev_df['filtered_text'].apply(preprocess_text)\n"
   ]
  },
  {
   "cell_type": "code",
   "execution_count": null,
   "metadata": {},
   "outputs": [],
   "source": [
    "import torch\n",
    "from torch.utils.data import Dataset, DataLoader\n",
    "from gensim.models import Word2Vec\n",
    "\n",
    "\n",
    "class CustomDataset(Dataset):\n",
    "    def __init__(self, dataframe, word2vec_model):\n",
    "        self.labels = pd.Categorical(dataframe['claim_label']).codes\n",
    "        self.texts = [torch.tensor([word2vec_model.wv[word] for word in text.split() if word in word2vec_model.wv])\n",
    "                      for text in dataframe['filtered_text']]\n",
    "\n",
    "    def __len__(self):\n",
    "        return len(self.texts)\n",
    "\n",
    "    def __getitem__(self, idx):\n",
    "        return {\n",
    "            'text': torch.stack(self.texts[idx]),\n",
    "            'label': torch.tensor(self.labels[idx], dtype=torch.long)\n",
    "        }\n",
    "\n",
    "# 加载Word2Vec模型\n",
    "word2vec_model = Word2Vec.load(\"custom_word2vec.model\")\n",
    "\n",
    "# 创建Dataset和DataLoader\n",
    "train_dataset = CustomDataset(train_df, word2vec_model)\n",
    "dev_dataset = CustomDataset(dev_df, word2vec_model)\n",
    "\n",
    "train_loader = DataLoader(train_dataset, batch_size=16, shuffle=True)\n",
    "dev_loader = DataLoader(dev_dataset, batch_size=16, shuffle=False)\n"
   ]
  },
  {
   "cell_type": "code",
   "execution_count": null,
   "metadata": {},
   "outputs": [],
   "source": [
    "import torch\n",
    "import torch.nn as nn\n",
    "import torch.nn.functional as F\n",
    "\n",
    "class Attention(nn.Module):\n",
    "    def __init__(self, hidden_dim):\n",
    "        super(Attention, self).__init__()\n",
    "        self.hidden_dim = hidden_dim\n",
    "        self.linear = nn.Linear(hidden_dim, 1)\n",
    "\n",
    "    def forward(self, outputs):\n",
    "        # outputs shape: (batch_size, seq_len, hidden_dim)\n",
    "        scores = self.linear(outputs).squeeze(2)  # (batch_size, seq_len)\n",
    "        scores = F.softmax(scores, dim=1)\n",
    "        # Weighted sum of hidden states\n",
    "        weighted = torch.bmm(scores.unsqueeze(1), outputs).squeeze(1)  # (batch_size, hidden_dim)\n",
    "        return weighted\n",
    "\n",
    "class TextClassifier(nn.Module):\n",
    "    def __init__(self, embedding_layer, hidden_dim, output_dim, bidirectional=True):\n",
    "        super(TextClassifier, self).__init__()\n",
    "        self.embedding = embedding_layer\n",
    "        self.transformer = nn.TransformerEncoderLayer(d_model=100, nhead=2, dim_feedforward=2048)\n",
    "        self.lstm = nn.LSTM(100, hidden_dim, batch_first=True, bidirectional=bidirectional)\n",
    "        self.attention = Attention(hidden_dim * 2 if bidirectional else hidden_dim)\n",
    "        self.fc = nn.Linear(hidden_dim * 2 if bidirectional else hidden_dim, output_dim)\n",
    "\n",
    "    def forward(self, text):\n",
    "        embedded = self.embedding(text)  # (batch_size, seq_len, emb_dim)\n",
    "        transformed = self.transformer(embedded.permute(1, 0, 2)).permute(1, 0, 2)  # Apply Transformer\n",
    "        lstm_out, _ = self.lstm(transformed)  # (batch_size, seq_len, hidden_dim * 2 if bidirectional)\n",
    "        attn_out = self.attention(lstm_out)\n",
    "        return self.fc(attn_out)\n",
    "\n",
    "# 初始化模型\n",
    "output_dim = 4  # 假设有4个类别\n",
    "hidden_dim = 256\n",
    "model = TextClassifier(embedding_layer, hidden_dim, output_dim).to(device)\n",
    "\n",
    "print(model)\n"
   ]
  },
  {
   "cell_type": "code",
   "execution_count": null,
   "metadata": {},
   "outputs": [],
   "source": [
    "from torch.optim import Adam\n",
    "\n",
    "criterion = nn.CrossEntropyLoss()  # 适用于多分类任务\n",
    "optimizer = Adam(model.parameters(), lr=0.001)\n",
    "\n",
    "# 训练函数（简化版本）\n",
    "def train(model, iterator, optimizer, criterion):\n",
    "    model.train()\n",
    "    epoch_loss = 0\n",
    "    for batch in iterator:\n",
    "        optimizer.zero_grad()\n",
    "        predictions = model(batch['text'].to(device))\n",
    "        loss = criterion(predictions, batch['label'].to(device))\n",
    "        loss.backward()\n",
    "        optimizer.step()\n",
    "        epoch_loss += loss.item()\n",
    "    return epoch_loss / len(iterator)\n",
    "\n",
    "# 验证函数（简化版本）\n",
    "def evaluate(model, iterator, criterion):\n",
    "    model.eval()\n",
    "    epoch_loss = 0\n",
    "    with torch.no_grad():\n",
    "        for batch in iterator:\n",
    "            predictions = model(batch['text'].to(device))\n",
    "            loss = criterion(predictions, batch['label'].to(device))\n",
    "            epoch_loss += loss.item()\n",
    "    return epoch_loss / len(iterator)\n"
   ]
  },
  {
   "cell_type": "code",
   "execution_count": null,
   "metadata": {},
   "outputs": [],
   "source": [
    "# 训练模型\n",
    "N_EPOCHS = 10\n",
    "for epoch in range(N_EPOCHS):\n",
    "    train_loss = train(model, train_loader, optimizer, criterion)\n",
    "    valid_loss = evaluate(model, dev_loader, criterion)\n",
    "    print(f'Epoch: {epoch + 1:02}')\n",
    "    print(f'\\tTrain Loss: {train_loss:.3f}')\n",
    "    print(f'\\t Val. Loss: {valid_loss:.3f}')\n",
    "    \n",
    "# 保存模型\n",
    "torch.save(model.state_dict(), 'model.pth')\n"
   ]
  },
  {
   "cell_type": "code",
   "execution_count": 1,
   "metadata": {},
   "outputs": [
    {
     "name": "stderr",
     "output_type": "stream",
     "text": [
      "[nltk_data] Downloading package wordnet to ./nltk_data/...\n",
      "[nltk_data] Downloading package omw-1.4 to ./nltk_data/...\n"
     ]
    },
    {
     "name": "stdout",
     "output_type": "stream",
     "text": [
      "下载完成，数据存放在： ./nltk_data/\n"
     ]
    }
   ],
   "source": [
    "import nltk\n",
    "\n",
    "# 指定下载 NLTK 数据的目录\n",
    "download_directory = \"./nltk_data/\"\n",
    "\n",
    "# 确保目录存在\n",
    "import os\n",
    "if not os.path.exists(download_directory):\n",
    "    os.makedirs(download_directory)\n",
    "\n",
    "# 下载所需的数据集\n",
    "nltk.download('wordnet', download_dir=download_directory)\n",
    "nltk.download('omw-1.4', download_dir=download_directory)\n",
    "\n",
    "print(\"下载完成，数据存放在：\", download_directory)\n"
   ]
  }
 ],
 "metadata": {
  "kernelspec": {
   "display_name": "Python 3",
   "language": "python",
   "name": "python3"
  },
  "language_info": {
   "codemirror_mode": {
    "name": "ipython",
    "version": 3
   },
   "file_extension": ".py",
   "mimetype": "text/x-python",
   "name": "python",
   "nbconvert_exporter": "python",
   "pygments_lexer": "ipython3",
   "version": "3.10.12"
  }
 },
 "nbformat": 4,
 "nbformat_minor": 2
}
